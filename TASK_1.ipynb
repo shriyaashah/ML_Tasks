{
  "nbformat": 4,
  "nbformat_minor": 0,
  "metadata": {
    "colab": {
      "provenance": [],
      "collapsed_sections": []
    },
    "kernelspec": {
      "name": "python3",
      "display_name": "Python 3"
    },
    "language_info": {
      "name": "python"
    }
  },
  "cells": [
    {
      "cell_type": "code",
      "execution_count": 42,
      "metadata": {
        "colab": {
          "base_uri": "https://localhost:8080/"
        },
        "id": "SW7L4NRrWckA",
        "outputId": "274c75b7-2e80-4fc8-bddc-d6d14eda684b"
      },
      "outputs": [
        {
          "output_type": "stream",
          "name": "stdout",
          "text": [
            "[0, 1, 2, 3, 4]\n",
            "['CLaiRe_DunPhY', 'PHiL_dUnpHY', 'GLoRiA_PriTCheTt', 'CaMErOn_TuCKEr', 'StELLa']\n"
          ]
        }
      ],
      "source": [
        "#Playing with built-ins\n",
        "modern_family = ['CLaiRe_DunPhY', 'PHiL_dUnpHY', 'GLoRiA_PriTCheTt', 'CaMErOn_TuCKEr', 'StELLa']\n",
        "\n",
        "indices = []\n",
        "characters = []\n",
        "for i, char in enumerate(modern_family):\n",
        "  indices.append(i)\n",
        "  characters.append(char)\n",
        "print(indices)\n",
        "print(characters)  "
      ]
    },
    {
      "cell_type": "code",
      "source": [
        "for i in range(len(characters)):\n",
        "  characters[i] = characters[i].lower()\n",
        "  characters[i] = characters[i].replace('_','-')\n",
        "print(characters)"
      ],
      "metadata": {
        "colab": {
          "base_uri": "https://localhost:8080/"
        },
        "id": "2vmr1FcZqOfb",
        "outputId": "2c8b683b-415b-4fb7-c80e-bdbddbf7139c"
      },
      "execution_count": 43,
      "outputs": [
        {
          "output_type": "stream",
          "name": "stdout",
          "text": [
            "['claire-dunphy', 'phil-dunphy', 'gloria-pritchett', 'cameron-tucker', 'stella']\n"
          ]
        }
      ]
    },
    {
      "cell_type": "code",
      "source": [
        "temp = list(map(lambda sequence : len(sequence), characters))\n",
        "print(temp)"
      ],
      "metadata": {
        "colab": {
          "base_uri": "https://localhost:8080/"
        },
        "id": "T4LMcyo3jxIW",
        "outputId": "45bf1425-9552-4a81-8ca2-52841ef79a32"
      },
      "execution_count": 44,
      "outputs": [
        {
          "output_type": "stream",
          "name": "stdout",
          "text": [
            "[13, 11, 16, 14, 6]\n"
          ]
        }
      ]
    },
    {
      "cell_type": "code",
      "source": [
        "indices = [sum(i) for i in zip(indices, temp)]\n",
        "print(indices)  "
      ],
      "metadata": {
        "colab": {
          "base_uri": "https://localhost:8080/"
        },
        "id": "Rwxqmwbl2zUL",
        "outputId": "edfefd70-cd60-479e-d8e2-4a06d6aefeb0"
      },
      "execution_count": 45,
      "outputs": [
        {
          "output_type": "stream",
          "name": "stdout",
          "text": [
            "[13, 12, 18, 17, 10]\n"
          ]
        }
      ]
    },
    {
      "cell_type": "code",
      "source": [
        "indices.sort(reverse = True)\n",
        "print(indices)"
      ],
      "metadata": {
        "colab": {
          "base_uri": "https://localhost:8080/"
        },
        "id": "FeoW7_zv7J7Y",
        "outputId": "49f77d29-ad2d-4259-c645-c4b17133ec56"
      },
      "execution_count": 46,
      "outputs": [
        {
          "output_type": "stream",
          "name": "stdout",
          "text": [
            "[18, 17, 13, 12, 10]\n"
          ]
        }
      ]
    },
    {
      "cell_type": "code",
      "source": [
        "#for i in range(len(indices)):\n",
        "Phew_finally = dict(zip(indices, characters))\n",
        "\n",
        "print('final output is ' + str(Phew_finally)) "
      ],
      "metadata": {
        "colab": {
          "base_uri": "https://localhost:8080/"
        },
        "id": "cH9bGPHm753I",
        "outputId": "80af6ac2-d0f5-455f-98de-81ede1f8e541"
      },
      "execution_count": 56,
      "outputs": [
        {
          "output_type": "stream",
          "name": "stdout",
          "text": [
            "final output is {18: 'claire-dunphy', 17: 'phil-dunphy', 13: 'gloria-pritchett', 12: 'cameron-tucker', 10: 'stella'}\n"
          ]
        }
      ]
    },
    {
      "cell_type": "code",
      "source": [
        "#Red light, Green light\n",
        "creepy_doll = ['red_light', 'green_light', 'red_light', 'you_got_shot', 'green_light', 'you_got_shot', 'you_got_shot', 'green_light', 'you_ got_shot', 'red_light', 'green_light', 'red_light', 'you_got_shot', 'green_light','red_light', 'red_light', 'green_light', 'you_got_shot','red_light', 'you_got_shot']\n",
        "\n",
        "\n",
        "next_game = creepy_doll[1:19:3]\n",
        "print(next_game)"
      ],
      "metadata": {
        "colab": {
          "base_uri": "https://localhost:8080/"
        },
        "id": "WKV1Fq96k8OC",
        "outputId": "8e5fcae8-caae-4878-feca-6fda3c01280b"
      },
      "execution_count": 36,
      "outputs": [
        {
          "output_type": "stream",
          "name": "stdout",
          "text": [
            "['green_light', 'green_light', 'green_light', 'green_light', 'green_light', 'green_light']\n"
          ]
        }
      ]
    },
    {
      "cell_type": "code",
      "source": [
        "#TATAKAE\n",
        "class Titandex:\n",
        "  ws=0\n",
        "  def __init__(self, name, height, strength):\n",
        "    self.name = name\n",
        "    self.height = height\n",
        "    self.strength = strength\n",
        "    self.winning_streak = 0\n",
        "  \n",
        "  def TitanvsScout(self):\n",
        "    print(\"fighting frequency\", self.name)\n",
        "    n = int(input())\n",
        "    for i in range(n):\n",
        "      print('enter name and strength of scout')\n",
        "      sconame = input()\n",
        "      scostrength = int(input())\n",
        "      if scostrength > self.strength:\n",
        "        self.winningstreak = 0\n",
        "        print(sconame,'wins')\n",
        "      elif scostrength < self.strength:\n",
        "        self.winning_streak = self.winning_streak + 1\n",
        "        print(self.name, 'wins')\n",
        "      else :\n",
        "        self.winning_streak = 0\n",
        "        print('draw')\n",
        "  \n",
        "  def TitanvsTitan(self):\n",
        "    print(\"fighting frequency\", self.name)\n",
        "    n = int(input())\n",
        "    for i in range(n):\n",
        "      print('enter name and strength of titan')\n",
        "      titanname = input()\n",
        "      titanstrength = int(input())\n",
        "      if titanname == self.name:\n",
        "        print('error')\n",
        "      elif titanstrength > self.strength:\n",
        "        self.winningstreak = 0\n",
        "        print(titanname,'wins')\n",
        "      elif titanstrength < self.strength:\n",
        "        self.winning_streak = self.winning_streak + 1\n",
        "        print(self.name,'wins')\n",
        "      else :\n",
        "        self.winning_streak = 0\n",
        "        print('draw')\n",
        "            \n",
        "  \n",
        "\n",
        "titan = Titandex('Female Titan', 14, 270)\n",
        "titan.TitanvsScout()\n",
        "titan.TitanvsTitan()"
      ],
      "metadata": {
        "colab": {
          "base_uri": "https://localhost:8080/"
        },
        "id": "WA2y715kpmVS",
        "outputId": "6513d095-7e9b-46e5-b8f3-f382f45c6649"
      },
      "execution_count": 1,
      "outputs": [
        {
          "output_type": "stream",
          "name": "stdout",
          "text": [
            "fighting frequency Female Titan\n",
            "0\n",
            "fighting frequency Female Titan\n",
            "1\n",
            "enter name and strength of titan\n",
            "Female Titan\n",
            "270\n",
            "error\n"
          ]
        }
      ]
    }
  ]
}